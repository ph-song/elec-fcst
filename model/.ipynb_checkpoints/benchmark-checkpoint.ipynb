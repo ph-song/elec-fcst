{
 "cells": [
  {
   "cell_type": "code",
   "execution_count": 7,
   "id": "4f0fca3d",
   "metadata": {},
   "outputs": [
    {
     "data": {
      "text/plain": [
       "(44807.148794003006, 24628.345058318104, 79700.12685650346)"
      ]
     },
     "execution_count": 7,
     "metadata": {},
     "output_type": "execute_result"
    }
   ],
   "source": [
    "import pandas as pd\n",
    "from sklearn.metrics import mean_absolute_error\n",
    "\n",
    "# Reload the data\n",
    "df_true = pd.read_csv(\"./data/cleaned_actual_train_test.csv\")\n",
    "\n",
    "# Convert time column to datetime type\n",
    "df_true['time'] = pd.to_datetime(df_true['time'])\n",
    "\n",
    "# Filter data for January 16, 2021 onwards\n",
    "df_true_2021_onwards = df_true[df_true['time'] >= '2021-01-16']\n",
    "\n",
    "# Create a new dataframe with lagged features for this filtered data\n",
    "df_true_lag_2021_onwards = pd.DataFrame([])\n",
    "df_true_lag_2021_onwards['load_kw_lag168'] = df_true_2021_onwards['load_kw'].shift(168)\n",
    "df_true_lag_2021_onwards['load_kw_lag48'] = df_true_2021_onwards['load_kw'].shift(48)\n",
    "df_true_lag_2021_onwards['time'] = pd.to_datetime(df_true_2021_onwards['time'])\n",
    "df_true_lag_2021_onwards['load_kw'] = df_true_2021_onwards['load_kw']\n",
    "\n",
    "# Retrieve the original Load (kW) column and create a new column for the one-year (8760 hours) lag\n",
    "df_true_lag_2021_onwards['load_kw_lag8760'] = df_true_2021_onwards['load_kw'].shift(8760)\n",
    "\n",
    "# Calculate the naive prediction MAE for each lag\n",
    "naive_preds_168_2021 = df_true_lag_2021_onwards['load_kw_lag168'].dropna().values\n",
    "naive_preds_48_2021 = df_true_lag_2021_onwards['load_kw_lag48'].dropna().values\n",
    "naive_preds_8760_2021 = df_true_lag_2021_onwards['load_kw_lag8760'].dropna().values\n",
    "actual_vals_2021 = df_true_lag_2021_onwards['load_kw'].dropna().values\n",
    "\n",
    "# Adjust for 8760-hour lag\n",
    "# First, let's use the full dataset to get the 8760-hour lag predictions, then filter the predictions from January 16, 2021 onwards\n",
    "\n",
    "df_true_full_lag = pd.DataFrame([])\n",
    "df_true_full_lag['load_kw_lag8760'] = df_true['load_kw'].shift(8760)\n",
    "df_true_full_lag['time'] = pd.to_datetime(df_true['time'])\n",
    "\n",
    "# Now, filter these predictions for January 16, 2021 onwards\n",
    "df_true_full_lag_2021_onwards = df_true_full_lag[df_true_full_lag['time'] >= '2021-01-16']\n",
    "naive_preds_8760_2021 = df_true_full_lag_2021_onwards['load_kw_lag8760'].dropna().values\n",
    "\n",
    "# Compute MAEs again\n",
    "naive_mae_168_2021 = mean_absolute_error(actual_vals_2021[-len(naive_preds_168_2021):], naive_preds_168_2021)\n",
    "naive_mae_48_2021 = mean_absolute_error(actual_vals_2021[-len(naive_preds_48_2021):], naive_preds_48_2021)\n",
    "naive_mae_8760_2021 = mean_absolute_error(actual_vals_2021, naive_preds_8760_2021[:len(actual_vals_2021)])\n",
    "\n",
    "\n",
    "naive_mae_48_2021, naive_mae_168_2021, naive_mae_8760_2021\n",
    "\n"
   ]
  },
  {
   "cell_type": "code",
   "execution_count": null,
   "id": "8f2194b2",
   "metadata": {},
   "outputs": [],
   "source": []
  }
 ],
 "metadata": {
  "kernelspec": {
   "display_name": "Python 3 (ipykernel)",
   "language": "python",
   "name": "python3"
  },
  "language_info": {
   "codemirror_mode": {
    "name": "ipython",
    "version": 3
   },
   "file_extension": ".py",
   "mimetype": "text/x-python",
   "name": "python",
   "nbconvert_exporter": "python",
   "pygments_lexer": "ipython3",
   "version": "3.9.17"
  }
 },
 "nbformat": 4,
 "nbformat_minor": 5
}
